{
  "nbformat": 4,
  "nbformat_minor": 0,
  "metadata": {
    "colab": {
      "provenance": [],
      "authorship_tag": "ABX9TyMpHt/mMhxW9+CsExleIg2e",
      "include_colab_link": true
    },
    "kernelspec": {
      "name": "python3",
      "display_name": "Python 3"
    },
    "language_info": {
      "name": "python"
    }
  },
  "cells": [
    {
      "cell_type": "markdown",
      "metadata": {
        "id": "view-in-github",
        "colab_type": "text"
      },
      "source": [
        "<a href=\"https://colab.research.google.com/github/Hnyumin/IOT/blob/main/busarrive.ipynb\" target=\"_parent\"><img src=\"https://colab.research.google.com/assets/colab-badge.svg\" alt=\"Open In Colab\"/></a>"
      ]
    },
    {
      "cell_type": "code",
      "source": [
        "import requests\n",
        "url='http://apis.data.go.kr/6410000/buslocationservice/getBusLocationList?serviceKey=vwcEMAx78NVpLUvzksusChWvrgchaCNNTn3mo7%2B6JYKGUZ2XjUtfI1K%2FIIFJRv%2F%2BVP%2B9Pm7xiEcj2S1ie1frwA%3D%3D&routeId=228000282'\n",
        "r = requests.get(url)\n",
        "print(r.text)"
      ],
      "metadata": {
        "id": "yu6WQCvL8Vcu"
      },
      "execution_count": null,
      "outputs": []
    }
  ]
}