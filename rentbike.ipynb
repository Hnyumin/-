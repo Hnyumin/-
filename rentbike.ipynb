{
  "nbformat": 4,
  "nbformat_minor": 0,
  "metadata": {
    "colab": {
      "provenance": [],
      "authorship_tag": "ABX9TyP5mz3KBcu47VsyzMqM3qWO",
      "include_colab_link": true
    },
    "kernelspec": {
      "name": "python3",
      "display_name": "Python 3"
    },
    "language_info": {
      "name": "python"
    }
  },
  "cells": [
    {
      "cell_type": "markdown",
      "metadata": {
        "id": "view-in-github",
        "colab_type": "text"
      },
      "source": [
        "<a href=\"https://colab.research.google.com/github/Hnyumin/IOT/blob/main/rentbike.ipynb\" target=\"_parent\"><img src=\"https://colab.research.google.com/assets/colab-badge.svg\" alt=\"Open In Colab\"/></a>"
      ]
    },
    {
      "cell_type": "code",
      "source": [
        "a={\"rentBikeStatus\":{\"list_total_count\":5,\"RESULT\":{\"CODE\":\"INFO-000\",\"MESSAGE\":\"정상 처리되었습니다.\"},\"row\":[{\"rackTotCnt\":\"15\",\"stationName\":\"102. 망원역 1번출구 앞\",\"parkingBikeTotCnt\":\"28\",\"shared\":\"187\",\"stationLatitude\":\"37.55564880\",\"stationLongitude\":\"126.91062927\",\"stationId\":\"ST-4\"},{\"rackTotCnt\":\"14\",\"stationName\":\"103. 망원역 2번출구 앞\",\"parkingBikeTotCnt\":\"27\",\"shared\":\"193\",\"stationLatitude\":\"37.55495071\",\"stationLongitude\":\"126.91083527\",\"stationId\":\"ST-5\"},{\"rackTotCnt\":\"13\",\"stationName\":\"104. 합정역 1번출구 앞\",\"parkingBikeTotCnt\":\"15\",\"shared\":\"115\",\"stationLatitude\":\"37.55073929\",\"stationLongitude\":\"126.91508484\",\"stationId\":\"ST-6\"},{\"rackTotCnt\":\"5\",\"stationName\":\"105. 합정역 5번출구 앞\",\"parkingBikeTotCnt\":\"17\",\"shared\":\"340\",\"stationLatitude\":\"37.55000687\",\"stationLongitude\":\"126.91482544\",\"stationId\":\"ST-7\"},{\"rackTotCnt\":\"12\",\"stationName\":\"106. 합정역 7번출구 앞\",\"parkingBikeTotCnt\":\"4\",\"shared\":\"33\",\"stationLatitude\":\"37.54864502\",\"stationLongitude\":\"126.91282654\",\"stationId\":\"ST-8\"}]}}"
      ],
      "metadata": {
        "id": "6_EinwhGRPvK"
      },
      "execution_count": 2,
      "outputs": []
    },
    {
      "cell_type": "code",
      "execution_count": 3,
      "metadata": {
        "colab": {
          "base_uri": "https://localhost:8080/"
        },
        "id": "wWhNPQBuROtG",
        "outputId": "cffbc6b1-80e0-42d8-e400-8e00efc7b5aa"
      },
      "outputs": [
        {
          "output_type": "stream",
          "name": "stdout",
          "text": [
            "대여횟수 : 102. 망원역 1번출구 앞 187\n",
            "대여횟수 : 103. 망원역 2번출구 앞 193\n",
            "대여횟수 : 104. 합정역 1번출구 앞 115\n",
            "대여횟수 : 105. 합정역 5번출구 앞 340\n",
            "대여횟수 : 106. 합정역 7번출구 앞 33\n"
          ]
        }
      ],
      "source": [
        "for x in a['rentBikeStatus']['row']:\n",
        "    print('대여횟수', ':', x['stationName'], x['shared'])"
      ]
    }
  ]
}