{
  "nbformat": 4,
  "nbformat_minor": 0,
  "metadata": {
    "colab": {
      "provenance": [],
      "authorship_tag": "ABX9TyPKinLdBH2Y/r28dcJ+AUDN",
      "include_colab_link": true
    },
    "kernelspec": {
      "name": "python3",
      "display_name": "Python 3"
    },
    "language_info": {
      "name": "python"
    }
  },
  "cells": [
    {
      "cell_type": "markdown",
      "metadata": {
        "id": "view-in-github",
        "colab_type": "text"
      },
      "source": [
        "<a href=\"https://colab.research.google.com/github/Hnyumin/IOT/blob/main/bike.ipynb\" target=\"_parent\"><img src=\"https://colab.research.google.com/assets/colab-badge.svg\" alt=\"Open In Colab\"/></a>"
      ]
    },
    {
      "cell_type": "code",
      "execution_count": 14,
      "metadata": {
        "colab": {
          "base_uri": "https://localhost:8080/"
        },
        "id": "VsEDcjnjA8qp",
        "outputId": "b6c6be15-e776-407e-ecee-5a0cd402d958"
      },
      "outputs": [
        {
          "output_type": "stream",
          "name": "stdout",
          "text": [
            "<?xml version=\"1.0\" encoding=\"ISO-8859-15\"?><rentBikeStatus><rentBikeStatus><list_total_count>5</list_total_count><row><shared>420</shared><stationLatitude>37.55564880</stationLatitude><stationLongitude>126.91062927</stationLongitude><stationName>102. 망원역 1번출구 앞</stationName><parkingBikeTotCnt>63</parkingBikeTotCnt><rackTotCnt>15</rackTotCnt><stationId>ST-4</stationId></row><row><shared>214</shared><stationLatitude>37.55495071</stationLatitude><stationLongitude>126.91083527</stationLongitude><stationName>103. 망원역 2번출구 앞</stationName><parkingBikeTotCnt>30</parkingBikeTotCnt><rackTotCnt>14</rackTotCnt><stationId>ST-5</stationId></row><row><shared>38</shared><stationLatitude>37.55073929</stationLatitude><stationLongitude>126.91508484</stationLongitude><stationName>104. 합정역 1번출구 앞</stationName><parkingBikeTotCnt>5</parkingBikeTotCnt><rackTotCnt>13</rackTotCnt><stationId>ST-6</stationId></row><row><shared>60</shared><stationLatitude>37.55000687</stationLatitude><stationLongitude>126.91482544</stationLongitude><stationName>105. 합정역 5번출구 앞</stationName><parkingBikeTotCnt>3</parkingBikeTotCnt><rackTotCnt>5</rackTotCnt><stationId>ST-7</stationId></row><row><shared>183</shared><stationLatitude>37.54864502</stationLatitude><stationLongitude>126.91282654</stationLongitude><stationName>106. 합정역 7번출구 앞</stationName><parkingBikeTotCnt>22</parkingBikeTotCnt><rackTotCnt>12</rackTotCnt><stationId>ST-8</stationId></row><RESULT><MESSAGE>정상 처리되었습니다.</MESSAGE><CODE>INFO-000</CODE></RESULT></rentBikeStatus></rentBikeStatus>\n"
          ]
        }
      ],
      "source": [
        "import requests\n",
        "url='http://openapi.seoul.go.kr:8088/6b7263476668796d35367979454159/xml/bikeList/1/5'\n",
        "r = requests.get(url)\n",
        "print(r.text)"
      ]
    },
    {
      "cell_type": "code",
      "source": [
        "from bs4 import BeautifulSoup\n",
        "\n",
        "soup = BeautifulSoup(r.text, features=\"xml\")"
      ],
      "metadata": {
        "id": "qVleSO0tBW3J"
      },
      "execution_count": 38,
      "outputs": []
    },
    {
      "cell_type": "code",
      "source": [
        "soup.find_all('parkingBikeTotCnt')"
      ],
      "metadata": {
        "colab": {
          "base_uri": "https://localhost:8080/"
        },
        "id": "A6_1LzOcBpLo",
        "outputId": "4e790a2a-861e-45dc-a278-880a640daaa5"
      },
      "execution_count": 39,
      "outputs": [
        {
          "output_type": "execute_result",
          "data": {
            "text/plain": [
              "[<parkingBikeTotCnt>63</parkingBikeTotCnt>,\n",
              " <parkingBikeTotCnt>30</parkingBikeTotCnt>,\n",
              " <parkingBikeTotCnt>5</parkingBikeTotCnt>,\n",
              " <parkingBikeTotCnt>3</parkingBikeTotCnt>,\n",
              " <parkingBikeTotCnt>22</parkingBikeTotCnt>]"
            ]
          },
          "metadata": {},
          "execution_count": 39
        }
      ]
    }
  ]
}