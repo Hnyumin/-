{
  "nbformat": 4,
  "nbformat_minor": 0,
  "metadata": {
    "colab": {
      "provenance": [],
      "authorship_tag": "ABX9TyPDOkjG2YvIZ5G2ChhT1Dw7",
      "include_colab_link": true
    },
    "kernelspec": {
      "name": "python3",
      "display_name": "Python 3"
    },
    "language_info": {
      "name": "python"
    }
  },
  "cells": [
    {
      "cell_type": "markdown",
      "metadata": {
        "id": "view-in-github",
        "colab_type": "text"
      },
      "source": [
        "<a href=\"https://colab.research.google.com/github/Hnyumin/IOT/blob/main/%ED%99%98%EA%B2%BD.ipynb\" target=\"_parent\"><img src=\"https://colab.research.google.com/assets/colab-badge.svg\" alt=\"Open In Colab\"/></a>"
      ]
    },
    {
      "cell_type": "code",
      "execution_count": 17,
      "metadata": {
        "colab": {
          "base_uri": "https://localhost:8080/"
        },
        "id": "TrcM2KnfrKSM",
        "outputId": "f393c0b1-49c4-45b1-f516-a793676dfdd9"
      },
      "outputs": [
        {
          "output_type": "stream",
          "name": "stdout",
          "text": [
            "Requirement already satisfied: paho-mqtt in /usr/local/lib/python3.10/dist-packages (2.0.0)\n"
          ]
        }
      ],
      "source": [
        "!pip install paho-mqtt"
      ]
    },
    {
      "cell_type": "code",
      "source": [
        "import json\n",
        "import requests\n",
        "n=0\n",
        "\n",
        "def doit(topic, payload):\n",
        "  global n\n",
        "  print(topic, payload)\n",
        "  j=json.loads(payload)\n",
        "  #print(j['co2'])\n",
        "  #url='https://api.thingspeak.com/update?api_key=GFMIAD6DECNG0D4Z'\n",
        "  url='https://api.thingspeak.com/update?api_key=GFMIAD6DECNG0D4Z'\n",
        "  url +='&field1='+j['co2']\n",
        "  url +='&field2='+j['bme680'].split(',')[0]\n",
        "  if n>15:\n",
        "    r=requests.get(url)\n",
        "    print(url, r.text)\n",
        "    n=0\n",
        "  n+=1"
      ],
      "metadata": {
        "id": "xBrv9dmvrOzf"
      },
      "execution_count": 18,
      "outputs": []
    },
    {
      "cell_type": "code",
      "source": [
        "import paho.mqtt.client as mqtt\n",
        "\n",
        "def on_connect(client, userdata, flags, reason_code, properties):\n",
        "    print(f\"Connected with result code {reason_code}\")\n",
        "    client.subscribe(\"connectware/indoor/data/1502\")\n",
        "\n",
        "def on_message(client, userdata, msg):\n",
        "    doit(msg.topic, msg.payload.decode('utf8'))\n",
        "\n",
        "client = mqtt.Client(mqtt.CallbackAPIVersion.VERSION2)\n",
        "client.on_connect = on_connect\n",
        "client.on_message = on_message\n",
        "\n",
        "client.connect(\"damoa.io\", 1883, 60)\n",
        "client.loop_forever()"
      ],
      "metadata": {
        "colab": {
          "base_uri": "https://localhost:8080/"
        },
        "id": "h8ULlhH9rP8e",
        "outputId": "5222fc9f-7103-4d53-8d00-8792d4a0b1e7"
      },
      "execution_count": null,
      "outputs": [
        {
          "output_type": "stream",
          "name": "stdout",
          "text": [
            "Connected with result code Success\n",
            "connectware/indoor/data/1502 {\"dust\":\"51,67\",\"co2\":\"512\",\"bme680\":\"25.06,17.77,5000000,100837,40.63\",\"time\":\"2024-04-07 14:21:20\", \"serial\":250793, \"ip\":\"203.255.190.49\"}\n",
            "connectware/indoor/data/1502 {\"dust\":\"50,66\",\"co2\":\"512\",\"bme680\":\"25.06,17.77,5004704,100837,40.63\",\"time\":\"2024-04-07 14:21:21\", \"serial\":250794, \"ip\":\"203.255.190.49\"}\n",
            "connectware/indoor/data/1502 {\"dust\":\"50,64\",\"co2\":\"512\",\"bme680\":\"25.06,17.77,5023607,100837,40.63\",\"time\":\"2024-04-07 14:21:22\", \"serial\":250795, \"ip\":\"203.255.190.49\"}\n",
            "connectware/indoor/data/1502 {\"dust\":\"50,64\",\"co2\":\"512\",\"bme680\":\"25.06,17.76,5028355,100837,40.71\",\"time\":\"2024-04-07 14:21:23\", \"serial\":250796, \"ip\":\"203.255.190.49\"}\n",
            "connectware/indoor/data/1502 {\"dust\":\"50,66\",\"co2\":\"511\",\"bme680\":\"25.06,17.77,5037879,100837,40.71\",\"time\":\"2024-04-07 14:21:24\", \"serial\":250797, \"ip\":\"203.255.190.49\"}\n",
            "connectware/indoor/data/1502 {\"dust\":\"50,67\",\"co2\":\"511\",\"bme680\":\"25.06,17.77,5042654,100836,40.71\",\"time\":\"2024-04-07 14:21:25\", \"serial\":250798, \"ip\":\"203.255.190.49\"}\n",
            "connectware/indoor/data/1502 {\"dust\":\"50,66\",\"co2\":\"512\",\"bme680\":\"25.06,17.77,5023607,100837,40.71\",\"time\":\"2024-04-07 14:21:26\", \"serial\":250799, \"ip\":\"203.255.190.49\"}\n",
            "connectware/indoor/data/1502 {\"dust\":\"50,65\",\"co2\":\"512\",\"bme680\":\"25.06,17.77,5023607,100837,40.79\",\"time\":\"2024-04-07 14:21:27\", \"serial\":250800, \"ip\":\"203.255.190.49\"}\n",
            "connectware/indoor/data/1502 {\"dust\":\"50,65\",\"co2\":\"512\",\"bme680\":\"25.06,17.77,5066667,100836,40.79\",\"time\":\"2024-04-07 14:21:28\", \"serial\":250801, \"ip\":\"203.255.190.49\"}\n",
            "https://api.thingspeak.com/update?api_key=GFMIAD6DECNG0D4Z&field1=512&field2=25.06 945\n",
            "connectware/indoor/data/1502 {\"dust\":\"49,62\",\"co2\":\"511\",\"bme680\":\"25.06,17.76,5028355,100836,40.79\",\"time\":\"2024-04-07 14:21:29\", \"serial\":250802, \"ip\":\"203.255.190.49\"}\n",
            "connectware/indoor/data/1502 {\"dust\":\"50,63\",\"co2\":\"511\",\"bme680\":\"25.07,17.78,5071496,100836,40.79\",\"time\":\"2024-04-07 14:21:30\", \"serial\":250803, \"ip\":\"203.255.190.49\"}\n",
            "connectware/indoor/data/1502 {\"dust\":\"50,64\",\"co2\":\"511\",\"bme680\":\"25.07,17.76,5057034,100836,40.79\",\"time\":\"2024-04-07 14:21:31\", \"serial\":250804, \"ip\":\"203.255.190.49\"}\n",
            "connectware/indoor/data/1502 {\"dust\":\"50,66\",\"co2\":\"511\",\"bme680\":\"25.07,17.76,5135135,100836,40.79\",\"time\":\"2024-04-07 14:21:32\", \"serial\":250805, \"ip\":\"203.255.190.49\"}\n",
            "connectware/indoor/data/1502 {\"dust\":\"50,67\",\"co2\":\"512\",\"bme680\":\"25.07,17.76,5071496,100837,40.71\",\"time\":\"2024-04-07 14:21:33\", \"serial\":250806, \"ip\":\"203.255.190.49\"}\n",
            "connectware/indoor/data/1502 {\"dust\":\"51,68\",\"co2\":\"512\",\"bme680\":\"25.07,17.76,5130183,100836,40.79\",\"time\":\"2024-04-07 14:21:34\", \"serial\":250807, \"ip\":\"203.255.190.49\"}\n",
            "connectware/indoor/data/1502 {\"dust\":\"50,67\",\"co2\":\"512\",\"bme680\":\"25.07,17.75,5100671,100836,40.79\",\"time\":\"2024-04-07 14:21:35\", \"serial\":250808, \"ip\":\"203.255.190.49\"}\n",
            "connectware/indoor/data/1502 {\"dust\":\"51,67\",\"co2\":\"511\",\"bme680\":\"25.07,17.75,5110470,100835,40.88\",\"time\":\"2024-04-07 14:21:36\", \"serial\":250809, \"ip\":\"203.255.190.49\"}\n",
            "connectware/indoor/data/1502 {\"dust\":\"51,69\",\"co2\":\"511\",\"bme680\":\"25.07,17.75,5145068,100835,40.88\",\"time\":\"2024-04-07 14:21:37\", \"serial\":250810, \"ip\":\"203.255.190.49\"}\n",
            "connectware/indoor/data/1502 {\"dust\":\"52,69\",\"co2\":\"511\",\"bme680\":\"25.07,17.77,5057034,100835,40.88\",\"time\":\"2024-04-07 14:21:38\", \"serial\":250811, \"ip\":\"203.255.190.49\"}\n",
            "connectware/indoor/data/1502 {\"dust\":\"52,72\",\"co2\":\"511\",\"bme680\":\"25.07,17.77,5090909,100835,40.88\",\"time\":\"2024-04-07 14:21:39\", \"serial\":250812, \"ip\":\"203.255.190.49\"}\n",
            "connectware/indoor/data/1502 {\"dust\":\"53,72\",\"co2\":\"511\",\"bme680\":\"25.06,17.76,5115384,100834,40.88\",\"time\":\"2024-04-07 14:21:40\", \"serial\":250813, \"ip\":\"203.255.190.49\"}\n",
            "connectware/indoor/data/1502 {\"dust\":\"52,72\",\"co2\":\"511\",\"bme680\":\"25.06,17.76,5140096,100835,40.88\",\"time\":\"2024-04-07 14:21:41\", \"serial\":250814, \"ip\":\"203.255.190.49\"}\n",
            "connectware/indoor/data/1502 {\"dust\":\"52,70\",\"co2\":\"512\",\"bme680\":\"25.06,17.77,5155039,100835,40.79\",\"time\":\"2024-04-07 14:21:42\", \"serial\":250815, \"ip\":\"203.255.190.49\"}\n",
            "connectware/indoor/data/1502 {\"dust\":\"52,70\",\"co2\":\"512\",\"bme680\":\"25.06,17.76,5125241,100836,40.71\",\"time\":\"2024-04-07 14:21:43\", \"serial\":250816, \"ip\":\"203.255.190.49\"}\n",
            "connectware/indoor/data/1502 {\"dust\":\"53,71\",\"co2\":\"512\",\"bme680\":\"25.07,17.76,5180136,100837,40.71\",\"time\":\"2024-04-07 14:21:44\", \"serial\":250817, \"ip\":\"203.255.190.49\"}\n",
            "https://api.thingspeak.com/update?api_key=GFMIAD6DECNG0D4Z&field1=512&field2=25.07 946\n",
            "connectware/indoor/data/1502 {\"dust\":\"53,70\",\"co2\":\"512\",\"bme680\":\"25.06,17.77,5155039,100836,40.71\",\"time\":\"2024-04-07 14:21:45\", \"serial\":250818, \"ip\":\"203.255.190.49\"}\n",
            "connectware/indoor/data/1502 {\"dust\":\"52,71\",\"co2\":\"511\",\"bme680\":\"25.06,17.77,5140096,100836,40.79\",\"time\":\"2024-04-07 14:21:46\", \"serial\":250819, \"ip\":\"203.255.190.49\"}\n",
            "connectware/indoor/data/1502 {\"dust\":\"52,71\",\"co2\":\"511\",\"bme680\":\"25.06,17.76,5150048,100836,40.88\",\"time\":\"2024-04-07 14:21:47\", \"serial\":250820, \"ip\":\"203.255.190.49\"}\n",
            "connectware/indoor/data/1502 {\"dust\":\"52,70\",\"co2\":\"511\",\"bme680\":\"25.06,17.77,5145068,100835,40.88\",\"time\":\"2024-04-07 14:21:48\", \"serial\":250821, \"ip\":\"203.255.190.49\"}\n",
            "connectware/indoor/data/1502 {\"dust\":\"51,70\",\"co2\":\"511\",\"bme680\":\"25.06,17.77,5195312,100835,40.88\",\"time\":\"2024-04-07 14:21:49\", \"serial\":250822, \"ip\":\"203.255.190.49\"}\n",
            "connectware/indoor/data/1502 {\"dust\":\"51,68\",\"co2\":\"511\",\"bme680\":\"25.06,17.77,5210578,100835,40.79\",\"time\":\"2024-04-07 14:21:50\", \"serial\":250823, \"ip\":\"203.255.190.49\"}\n",
            "connectware/indoor/data/1502 {\"dust\":\"51,68\",\"co2\":\"512\",\"bme680\":\"25.06,17.77,5180136,100836,40.79\",\"time\":\"2024-04-07 14:21:51\", \"serial\":250824, \"ip\":\"203.255.190.49\"}\n"
          ]
        }
      ]
    }
  ]
}